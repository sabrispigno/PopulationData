{
 "cells": [
  {
   "cell_type": "code",
   "execution_count": 1,
   "metadata": {},
   "outputs": [],
   "source": [
    "import pandas as pd\n",
    "import os\n",
    "import numpy as np\n",
    "import matplotlib.pyplot as plt\n",
    "import MetagenomicData.filteringCuratedMetagenomicDataMetadata as fmd\n",
    "import MetagenomicData.Plotting as pltmg\n",
    "import MetagenomicData.Rankabundanceplot as ra\n"
   ]
  },
  {
   "cell_type": "code",
   "execution_count": 2,
   "metadata": {},
   "outputs": [
    {
     "name": "stderr",
     "output_type": "stream",
     "text": [
      "C:\\Users\\spigno\\AppData\\Local\\Temp\\ipykernel_28652\\1329612460.py:4: DtypeWarning: Columns (21,22,25,28,29,30,32,33,35,38,51,52,53,54,55,56,57,58,63,64,65,67,68,69,74,75,76,80,90,91,92,93,96,104,105,108,109,111,112,116,117,118,119,120,121,126,128,129,134) have mixed types. Specify dtype option on import or set low_memory=False.\n",
      "  metadata_csv = pd.read_csv(metadata_file)\n"
     ]
    }
   ],
   "source": [
    "metadata_file = \"C:/Users/spigno/Documents/GitHub/PopulationData/MetagenomicData/MetadataMetgendata.csv\"  # Percorso file metadati\n",
    "metagenomic_data_file = \"C:/Users/spigno/Documents/GitHub/PopulationData/MetagenomicData/RelabMetgendata.csv\"  # Percorso file dati metagenomici\n",
    "# Caricare i dataset\n",
    "metadata_csv = pd.read_csv(metadata_file)\n",
    "metagenomic_data = pd.read_csv(metagenomic_data_file)"
   ]
  },
  {
   "cell_type": "code",
   "execution_count": 18,
   "metadata": {},
   "outputs": [],
   "source": [
    "# Initialize the filter\n",
    "metadata_filter = fmd.MetadataFilter(metadata_csv)\n",
    "\n",
    "# Apply the filter criteria\n",
    "filtered_metadata = metadata_filter.filter_data(\n",
    "    diseases=[\"healthy\"], \n",
    "    body_sites=[\"stool\"],\n",
    "    age_categories=[\"adult\"],\n",
    "    diets=[\"omnivore\", \"vegetarian\", \"vegan\"],\n",
    "    study_name=[\"DeFilippisF_2019\"]\n",
    "    )\n",
    "\n",
    "# Exclude \"healthy\" manually\n",
    "#filtered_metadata = filtered_metadata[filtered_metadata[\"disease\"] != \"healthy\"]\n",
    "filtered_metadata = filtered_metadata[filtered_metadata[\"antibiotics_current_use\"] != \"yes\"]"
   ]
  },
  {
   "cell_type": "code",
   "execution_count": 19,
   "metadata": {},
   "outputs": [],
   "source": [
    "# Obtaining the columns of the metagenomic dataset that correspond to the filtered metadata\n",
    "selected_columns = filtered_metadata.iloc[:, 0].tolist()  # First column contains the column names\n",
    "\n",
    "# Filter the metagenomic dataset for the selected columns\n",
    "df = metagenomic_data[selected_columns]"
   ]
  },
  {
   "cell_type": "code",
   "execution_count": 20,
   "metadata": {},
   "outputs": [],
   "source": [
    "# Ottieni l'informazione della dieta da aggiungere ai titoli delle colonne\n",
    "diet_info = filtered_metadata.set_index(filtered_metadata.columns[0])['diet']  # Supponendo che la colonna 'diet' sia in filtered_metadata\n",
    "\n",
    "# Aggiungi l'informazione della dieta al nome di ciascuna colonna\n",
    "df.columns = [f\"{col}_diet:{diet_info[col]}\" for col in df.columns if col in diet_info]\n"
   ]
  },
  {
   "cell_type": "code",
   "execution_count": 23,
   "metadata": {},
   "outputs": [],
   "source": [
    "# Definisci un ordine preferito per le categorie di dieta\n",
    "diet_order = ['vegan', 'vegetarian', 'omnivore']\n",
    "\n",
    "# Ottieni le informazioni di dieta dalle colonne\n",
    "column_diet_info = [(col, col.split('_diet:')[1]) for col in df.columns if '_diet:' in col]\n",
    "\n",
    "# Sposta la dieta all'inizio del nome della colonna\n",
    "df.columns = [f\"{diet}_{col.split('_diet:')[0]}\" for col, diet in column_diet_info]\n",
    "\n",
    "# Aggiorna column_diet_info con i nuovi nomi di colonne\n",
    "column_diet_info = [(col, col.split('_')[0]) for col in df.columns]\n",
    "\n",
    "# Ordina le colonne in base all'ordine delle categorie di dieta\n",
    "sorted_columns = sorted(column_diet_info, key=lambda x: diet_order.index(x[1]) if x[1] in diet_order else len(diet_order))\n",
    "\n",
    "# Aggiorna le colonne del dataframe con l'ordine desiderato\n",
    "df = df[[col for col, _ in sorted_columns]]\n",
    "\n"
   ]
  },
  {
   "cell_type": "code",
   "execution_count": 24,
   "metadata": {},
   "outputs": [],
   "source": [
    "df.to_csv('metagenomicDeFilippis2.csv', index=True)\n",
    "\n",
    "# Salva la metadata filtrata in un file CSV\n",
    "filtered_metadata.to_csv('metadataDeFilippis2.csv', index=False)"
   ]
  },
  {
   "cell_type": "code",
   "execution_count": 8,
   "metadata": {},
   "outputs": [
    {
     "name": "stdout",
     "output_type": "stream",
     "text": [
      "33\n"
     ]
    }
   ],
   "source": [
    "# Select only the columns that have at least 100 non-null/non-zero values\n",
    "df_species = df.loc[:, df.astype(bool).sum(axis=0) >= 100]\n",
    "\n",
    "# Filter the metadata to keep only the rows that correspond to the columns of df_species\n",
    "metadata = filtered_metadata[filtered_metadata.iloc[:, 0].isin(df_species.columns)]\n",
    "\n",
    "# Transpose the dataframe and replace zeros with NaN\n",
    "df_transposed = df_species.transpose()\n",
    "df_transposed.replace(0, np.nan, inplace=True)\n",
    "\n",
    "# Convert the dataframe to a numpy array\n",
    "data = df_transposed.to_numpy()\n",
    "print(len(data))"
   ]
  },
  {
   "cell_type": "code",
   "execution_count": 7,
   "metadata": {},
   "outputs": [
    {
     "name": "stdout",
     "output_type": "stream",
     "text": [
      "Number of species including NAN (rows): 2055\n",
      "Number of features (columns): 33\n",
      "I file CSV sono stati salvati con successo.\n"
     ]
    }
   ],
   "source": [
    "import numpy as np\n",
    "import pandas as pd\n",
    "\n",
    "# 1. Ottieni le colonne del dataset metagenomico corrispondenti alla metadata filtrata\n",
    "selected_columns = filtered_metadata.iloc[:, 0].tolist()  # La prima colonna contiene i nomi delle colonne\n",
    "\n",
    "# 2. Filtra il dataset metagenomico per le colonne selezionate\n",
    "df = metagenomic_data[selected_columns]\n",
    "\n",
    "# 3. Seleziona solo le colonne con almeno 100 valori non nulli/non zero\n",
    "df_species = df.loc[:, df.astype(bool).sum(axis=0) >= 100]\n",
    "\n",
    "# 4. Filtra la metadata per mantenere solo le righe che corrispondono alle colonne di df_species\n",
    "metadata = filtered_metadata[filtered_metadata.iloc[:, 0].isin(df_species.columns)]\n",
    "\n",
    "# 5. Riordina le colonne di df_species secondo l'ordine presente nella metadata filtrata\n",
    "df_species = df_species[metadata.iloc[:, 0].tolist()]\n",
    "\n",
    "# 6. Trasponi il dataframe e sostituisci gli zeri con NaN\n",
    "df_transposed = df_species.transpose()\n",
    "#df_species.replace(0, np.nan, inplace=True)\n",
    "\n",
    "# 7. Converti il dataframe in un array numpy\n",
    "data = df_transposed.to_numpy()\n",
    "\n",
    "# 8. Verifica la lunghezza dei dati per assicurarti che il numero di righe sia corretto\n",
    "print(\"Number of species including NAN (rows):\", len(df_species))\n",
    "print(\"Number of features (columns):\", df_species.shape[1])\n",
    "# Salva il dataframe trasposto in un file CSV\n",
    "df.to_csv('metagenomicDeFilippis.csv', index=True)\n",
    "\n",
    "# Salva la metadata filtrata in un file CSV\n",
    "filtered_metadata.to_csv('metadataDeFilippis.csv', index=False)\n",
    "\n"
   ]
  },
  {
   "cell_type": "code",
   "execution_count": null,
   "metadata": {},
   "outputs": [],
   "source": [
    "import MetagenomicData.Plotting as pltmg\n",
    "import MetagenomicData.Rankabundanceplot as ra\n",
    "plotter = pltmg.HistogramPlotter(data, metadata,column_name=\"diet\", bins=np.logspace(-4, 1, 15),  pdf_filename='SAD_alldiet.pdf') # se non metto bins, usa i valori di default\n",
    "\n",
    "# Chiamata al metodo per generare e salvare gli istogrammi\n",
    "plotter.plot_histograms(row=1,col=2)"
   ]
  },
  {
   "cell_type": "code",
   "execution_count": null,
   "metadata": {},
   "outputs": [],
   "source": [
    "plotter = ra.RankAbundancePlotter(data, metadata, column_name=\"body_site\", pdf_filename='RANK_alldiet.pdf')\n",
    "plotter.plot_histograms()"
   ]
  }
 ],
 "metadata": {
  "kernelspec": {
   "display_name": "base",
   "language": "python",
   "name": "python3"
  },
  "language_info": {
   "codemirror_mode": {
    "name": "ipython",
    "version": 3
   },
   "file_extension": ".py",
   "mimetype": "text/x-python",
   "name": "python",
   "nbconvert_exporter": "python",
   "pygments_lexer": "ipython3",
   "version": "3.12.3"
  }
 },
 "nbformat": 4,
 "nbformat_minor": 2
}
