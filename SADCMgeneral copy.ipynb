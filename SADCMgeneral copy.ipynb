{
 "cells": [
  {
   "cell_type": "code",
   "execution_count": 2,
   "metadata": {},
   "outputs": [],
   "source": [
    "import pandas as pd\n",
    "import os\n",
    "import numpy as np\n",
    "import matplotlib.pyplot as plt\n",
    "import MetagenomicData.filteringCuratedMetagenomicDataMetadata as fmd\n",
    "import MetagenomicData.Plotting as pltmg\n",
    "import MetagenomicData.Rankabundanceplot as ra\n"
   ]
  },
  {
   "cell_type": "code",
   "execution_count": null,
   "metadata": {},
   "outputs": [],
   "source": [
    "metadata_file = \"C:/Users/spigno/Documents/GitHub/PopulationData/MetagenomicData/MetadataMetgendata.csv\"  # Percorso file metadati\n",
    "metagenomic_data_file = \"C:/Users/spigno/Documents/GitHub/PopulationData/MetagenomicData/RelabMetgendata.csv\"  # Percorso file dati metagenomici\n",
    "# Caricare i dataset\n",
    "metadata_csv = pd.read_csv(metadata_file)\n",
    "metagenomic_data = pd.read_csv(metagenomic_data_file)"
   ]
  },
  {
   "cell_type": "code",
   "execution_count": null,
   "metadata": {},
   "outputs": [],
   "source": [
    "# Initialize the filter\n",
    "metadata_filter = fmd.MetadataFilter(metadata_csv)\n",
    "\n",
    "# Apply the filter criteria\n",
    "filtered_metadata = metadata_filter.filter_data(\n",
    "    diseases=[\"healthy\"], \n",
    "    body_sites=[\"stool\"],\n",
    "    age_categories=[\"adult\"],\n",
    "    study_name=[\"DeFilippisF_2019\"],\n",
    "    diets=[\"omnivore\", \"vegetarian\", \"vegan\"],\n",
    "    )\n",
    "\n",
    "# Exclude \"healthy\" manually\n",
    "#filtered_metadata = filtered_metadata[filtered_metadata[\"disease\"] != \"healthy\"]\n",
    "filtered_metadata = filtered_metadata[filtered_metadata[\"antibiotics_current_use\"] != \"yes\"]"
   ]
  },
  {
   "cell_type": "code",
   "execution_count": 23,
   "metadata": {},
   "outputs": [
    {
     "name": "stdout",
     "output_type": "stream",
     "text": [
      "[[0.06894     nan 0.12161 ...     nan     nan     nan]\n",
      " [0.02226 2.66559 7.14212 ...     nan     nan     nan]\n",
      " [0.30753     nan 5.67888 ...     nan     nan     nan]\n",
      " ...\n",
      " [0.27213     nan 2.13695 ...     nan     nan     nan]\n",
      " [0.05766 1.09834 0.4529  ...     nan     nan     nan]\n",
      " [0.04521 0.19255 0.31595 ...     nan     nan     nan]]\n"
     ]
    }
   ],
   "source": [
    "# Obtaining the columns of the metagenomic dataset that correspond to the filtered metadata\n",
    "selected_columns = filtered_metadata.iloc[:, 0].tolist()  # First column contains the column names\n",
    "\n",
    "# Filter the metagenomic dataset for the selected columns\n",
    "df = metagenomic_data[selected_columns]\n",
    "\n",
    "# Select only the columns that have at least 100 non-null/non-zero values\n",
    "df_species = df.loc[:, df.astype(bool).sum(axis=0) >= 100]\n",
    "\n",
    "# Filter the metadata to keep only the rows that correspond to the columns of df_species\n",
    "metadata = filtered_metadata[filtered_metadata.iloc[:, 0].isin(df_species.columns)]\n",
    "\n",
    "# Transpose the dataframe and replace zeros with NaN\n",
    "df_transposed = df_species.transpose()\n",
    "df_transposed.replace(0, np.nan, inplace=True)\n",
    "\n",
    "# Convert the dataframe to a numpy array\n",
    "data = df_transposed.to_numpy()\n",
    "print(data)"
   ]
  },
  {
   "cell_type": "code",
   "execution_count": 12,
   "metadata": {},
   "outputs": [],
   "source": [
    "def pl(x, lam, r):\n",
    "    return(np.exp**(-r*x) + x^(-lam))\n",
    "\n"
   ]
  },
  {
   "cell_type": "code",
   "execution_count": 24,
   "metadata": {},
   "outputs": [
    {
     "ename": "KeyError",
     "evalue": "(0, slice(None, None, None))",
     "output_type": "error",
     "traceback": [
      "\u001b[1;31m---------------------------------------------------------------------------\u001b[0m",
      "\u001b[1;31mKeyError\u001b[0m                                  Traceback (most recent call last)",
      "Cell \u001b[1;32mIn[24], line 7\u001b[0m\n\u001b[0;32m      4\u001b[0m \u001b[38;5;66;03m# get data into numpy ndarrays.  If in a simple data file, \u001b[39;00m\n\u001b[0;32m      5\u001b[0m \u001b[38;5;66;03m# with columns of data, that might look like:\u001b[39;00m\n\u001b[0;32m      6\u001b[0m data \u001b[38;5;241m=\u001b[39m df_transposed\n\u001b[1;32m----> 7\u001b[0m p   \u001b[38;5;241m=\u001b[39m \u001b[43mdata\u001b[49m\u001b[43m[\u001b[49m\u001b[38;5;241;43m0\u001b[39;49m\u001b[43m,\u001b[49m\u001b[43m \u001b[49m\u001b[43m:\u001b[49m\u001b[43m]\u001b[49m\n\u001b[0;32m      8\u001b[0m s_u \u001b[38;5;241m=\u001b[39m data[\u001b[38;5;241m1\u001b[39m, :]\n\u001b[0;32m     10\u001b[0m \u001b[38;5;66;03m# define your model function (independent var in first argument)\u001b[39;00m\n",
      "File \u001b[1;32mc:\\Users\\spigno\\miniconda3\\Lib\\site-packages\\pandas\\core\\frame.py:4102\u001b[0m, in \u001b[0;36mDataFrame.__getitem__\u001b[1;34m(self, key)\u001b[0m\n\u001b[0;32m   4100\u001b[0m \u001b[38;5;28;01mif\u001b[39;00m \u001b[38;5;28mself\u001b[39m\u001b[38;5;241m.\u001b[39mcolumns\u001b[38;5;241m.\u001b[39mnlevels \u001b[38;5;241m>\u001b[39m \u001b[38;5;241m1\u001b[39m:\n\u001b[0;32m   4101\u001b[0m     \u001b[38;5;28;01mreturn\u001b[39;00m \u001b[38;5;28mself\u001b[39m\u001b[38;5;241m.\u001b[39m_getitem_multilevel(key)\n\u001b[1;32m-> 4102\u001b[0m indexer \u001b[38;5;241m=\u001b[39m \u001b[38;5;28;43mself\u001b[39;49m\u001b[38;5;241;43m.\u001b[39;49m\u001b[43mcolumns\u001b[49m\u001b[38;5;241;43m.\u001b[39;49m\u001b[43mget_loc\u001b[49m\u001b[43m(\u001b[49m\u001b[43mkey\u001b[49m\u001b[43m)\u001b[49m\n\u001b[0;32m   4103\u001b[0m \u001b[38;5;28;01mif\u001b[39;00m is_integer(indexer):\n\u001b[0;32m   4104\u001b[0m     indexer \u001b[38;5;241m=\u001b[39m [indexer]\n",
      "File \u001b[1;32mc:\\Users\\spigno\\miniconda3\\Lib\\site-packages\\pandas\\core\\indexes\\range.py:417\u001b[0m, in \u001b[0;36mRangeIndex.get_loc\u001b[1;34m(self, key)\u001b[0m\n\u001b[0;32m    415\u001b[0m         \u001b[38;5;28;01mraise\u001b[39;00m \u001b[38;5;167;01mKeyError\u001b[39;00m(key) \u001b[38;5;28;01mfrom\u001b[39;00m \u001b[38;5;21;01merr\u001b[39;00m\n\u001b[0;32m    416\u001b[0m \u001b[38;5;28;01mif\u001b[39;00m \u001b[38;5;28misinstance\u001b[39m(key, Hashable):\n\u001b[1;32m--> 417\u001b[0m     \u001b[38;5;28;01mraise\u001b[39;00m \u001b[38;5;167;01mKeyError\u001b[39;00m(key)\n\u001b[0;32m    418\u001b[0m \u001b[38;5;28mself\u001b[39m\u001b[38;5;241m.\u001b[39m_check_indexing_error(key)\n\u001b[0;32m    419\u001b[0m \u001b[38;5;28;01mraise\u001b[39;00m \u001b[38;5;167;01mKeyError\u001b[39;00m(key)\n",
      "\u001b[1;31mKeyError\u001b[0m: (0, slice(None, None, None))"
     ]
    }
   ],
   "source": [
    "import numpy as np\n",
    "from lmfit import Model\n",
    "\n",
    "# get data into numpy ndarrays.  If in a simple data file, \n",
    "# with columns of data, that might look like:\n",
    "data = df_transposed\n",
    "p   = data[0, :]\n",
    "s_u = data[1, :]\n",
    "\n",
    "# define your model function (independent var in first argument)\n",
    "def mod_su(p, su0=1, alpha=1):  # (values used as starting guesss)\n",
    "    return su0 * (p)**(-alpha)\n",
    "\n",
    "# now define the fitting model\n",
    "model = Model(mod_su)\n",
    "\n",
    "# make a set of parameters (for 'su0' and 'alpha'):\n",
    "params = model.make_params(su0=10)  # can also set initial values here\n",
    "\n",
    "# optionally, put min/max bounds on parameters:\n",
    "params['alpha'].min = 0.0\n",
    "params['su0'].min = 0.0\n",
    "params['su0'].max = 1e6\n",
    "\n",
    "# run the fit with Model.fit(Data_Array, Parameters, independent vars)\n",
    "result = model.fit(s_u, params, p=p)\n",
    "\n",
    "# print report with results and fitting statistics\n",
    "print(result.fit_report())\n",
    "\n",
    "# plot data and best fit\n",
    "import matplotlib as plt\n",
    "plt.plot(p, s_u, label='data')\n",
    "plt.plot(p, result.best_fit, label='fit')\n",
    "plt.show()"
   ]
  }
 ],
 "metadata": {
  "kernelspec": {
   "display_name": "base",
   "language": "python",
   "name": "python3"
  },
  "language_info": {
   "codemirror_mode": {
    "name": "ipython",
    "version": 3
   },
   "file_extension": ".py",
   "mimetype": "text/x-python",
   "name": "python",
   "nbconvert_exporter": "python",
   "pygments_lexer": "ipython3",
   "version": "3.12.3"
  }
 },
 "nbformat": 4,
 "nbformat_minor": 2
}
