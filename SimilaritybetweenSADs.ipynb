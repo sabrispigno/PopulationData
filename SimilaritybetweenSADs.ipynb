{
 "cells": [
  {
   "cell_type": "code",
   "execution_count": 8,
   "metadata": {},
   "outputs": [],
   "source": [
    "import pandas as pd\n",
    "import numpy as np\n",
    "import matplotlib.pyplot as plt\n",
    "from scipy.stats import ks_2samp\n",
    "\n",
    "# Load the dataset\n",
    "df = pd.read_excel(\"PAS1.xlsx\", sheet_name='RAW')"
   ]
  },
  {
   "cell_type": "code",
   "execution_count": 4,
   "metadata": {},
   "outputs": [],
   "source": [
    "df1=df[df[\"TimeSeries\"]==0] #change to change the time\n",
    "df2=df1.drop(df1.columns[[1, 2,3]], axis=1) # delate the unuseful columns\n",
    "df2.set_index(df2.columns[0], inplace=True) # set the first row as index\n",
    "df3=df2.transpose()\n",
    "dat=df3.to_numpy()\n",
    "\n",
    "##Do the same for the Time Series 8\n",
    "\n",
    "fdf1=df[df[\"TimeSeries\"]==8] #change to change the time\n",
    "fdf2=fdf1.drop(fdf1.columns[[1, 2,3]], axis=1) # delete the unuseful columns\n",
    "fdf2.set_index(fdf2.columns[0], inplace=True) # set the first row as index\n",
    "fdf3=fdf2.transpose()\n",
    "fdat=fdf3.to_numpy()"
   ]
  },
  {
   "cell_type": "code",
   "execution_count": 16,
   "metadata": {},
   "outputs": [],
   "source": [
    "#### Evaluating the SADs for the two datasets \n",
    "histt0_def=[]\n",
    "histtf_def=[]\n",
    "for i in range(dat.shape[1]):\n",
    "\n",
    "    histt0, bins = np.histogram(dat[:, i],bins=np.logspace(-5,0,10)) # 50 bins in the range from 1e-10 e 1\n",
    "    bins_midt0 = (bins[1:]+bins[:-1])/2\n",
    "    histt0_def.append(histt0)\n",
    "for i in range(fdat.shape[1]):\n",
    "\n",
    "    histtf, bins= np.histogram(dat[:, i],bins=np.logspace(-5,0,10)) # 50 bins in the range from 1e-10 e 1\n",
    "    bins_midtf = (bins[1:]+bins[:-1])/2\n",
    "    histtf_def.append(histtf)"
   ]
  },
  {
   "cell_type": "code",
   "execution_count": 17,
   "metadata": {},
   "outputs": [
    {
     "data": {
      "text/plain": [
       "KstestResult(statistic=array([0., 0., 0., 0., 0., 0., 0., 0., 0.]), pvalue=array([1., 1., 1., 1., 1., 1., 1., 1., 1.]), statistic_location=array([ 6., 15., 15., 12.,  8.,  5.,  1.,  0.,  0.]), statistic_sign=array([1., 1., 1., 1., 1., 1., 1., 1., 1.]))"
      ]
     },
     "execution_count": 17,
     "metadata": {},
     "output_type": "execute_result"
    }
   ],
   "source": [
    "ks_2samp(histt0_def,histtf_def)"
   ]
  }
 ],
 "metadata": {
  "kernelspec": {
   "display_name": "base",
   "language": "python",
   "name": "python3"
  },
  "language_info": {
   "codemirror_mode": {
    "name": "ipython",
    "version": 3
   },
   "file_extension": ".py",
   "mimetype": "text/x-python",
   "name": "python",
   "nbconvert_exporter": "python",
   "pygments_lexer": "ipython3",
   "version": "3.12.3"
  }
 },
 "nbformat": 4,
 "nbformat_minor": 2
}
